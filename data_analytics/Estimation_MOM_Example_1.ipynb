{
 "cells": [
  {
   "cell_type": "markdown",
   "metadata": {},
   "source": [
    "## Imports"
   ]
  },
  {
   "cell_type": "code",
   "execution_count": 1,
   "metadata": {
    "collapsed": true
   },
   "outputs": [],
   "source": [
    "import matplotlib.pyplot as plt\n",
    "import seaborn\n",
    "import numpy as np\n",
    "%matplotlib inline\n",
    "\n",
    "from scipy import stats"
   ]
  },
  {
   "cell_type": "markdown",
   "metadata": {},
   "source": [
    "### How about some legible text in our graph?"
   ]
  },
  {
   "cell_type": "code",
   "execution_count": 2,
   "metadata": {
    "collapsed": true
   },
   "outputs": [],
   "source": [
    "import matplotlib as mpl\n",
    "mpl.rcParams.update({\n",
    "    'font.size'           : 20.0,\n",
    "    'axes.titlesize'      : 'large',\n",
    "    'axes.labelsize'      : 'medium',\n",
    "    'xtick.labelsize'     : 'medium',\n",
    "    'ytick.labelsize'     : 'medium',\n",
    "    'legend.fontsize'     : 'large',\n",
    "})"
   ]
  },
  {
   "cell_type": "markdown",
   "metadata": {},
   "source": [
    "### Calculate moment of interest for Poisson distribution"
   ]
  },
  {
   "cell_type": "code",
   "execution_count": 3,
   "metadata": {},
   "outputs": [
    {
     "name": "stdout",
     "output_type": "stream",
     "text": [
      "The mean (and variance) of the poisson distribution is 5.43.\n"
     ]
    }
   ],
   "source": [
    "sample = [6, 4, 7, 4, 9, 3, 5]\n",
    "mu = sum(sample)/len(sample)\n",
    "print(\"The mean (and variance) of the poisson distribution is {0:0.2f}.\".format(mu))"
   ]
  },
  {
   "cell_type": "markdown",
   "metadata": {},
   "source": [
    "### Discrete x values that cover most of the poisson cdf using the percentile point function"
   ]
  },
  {
   "cell_type": "code",
   "execution_count": 4,
   "metadata": {},
   "outputs": [
    {
     "name": "stdout",
     "output_type": "stream",
     "text": [
      "[  0.   1.   2.   3.   4.   5.   6.   7.   8.   9.  10.  11.  12.  13.]\n"
     ]
    }
   ],
   "source": [
    "x = np.arange(stats.poisson.ppf(0.001, mu),\n",
    "              stats.poisson.ppf(0.999, mu))\n",
    "print(x)"
   ]
  },
  {
   "cell_type": "markdown",
   "metadata": {},
   "source": [
    "### With lambda and x can compute probabilities using the pmf"
   ]
  },
  {
   "cell_type": "code",
   "execution_count": 5,
   "metadata": {},
   "outputs": [
    {
     "name": "stdout",
     "output_type": "stream",
     "text": [
      "The probability of one visitor is 0.024.\n",
      "The probability of six visitors is 0.156.\n"
     ]
    }
   ],
   "source": [
    "print(\"The probability of one visitor is {0:0.3f}.\".format(stats.poisson.pmf(1, mu)))\n",
    "print(\"The probability of six visitors is {0:0.3f}.\".format(stats.poisson.pmf(6, mu)))"
   ]
  },
  {
   "cell_type": "markdown",
   "metadata": {},
   "source": [
    "### Plot the distribution"
   ]
  },
  {
   "cell_type": "code",
   "execution_count": 6,
   "metadata": {
    "scrolled": true
   },
   "outputs": [
    {
     "data": {
      "image/png": "[encoded data removed]",
      "text/plain": [
       "<matplotlib.figure.Figure at 0x7f5a1c954978>"
      ]
     },
     "metadata": {},
     "output_type": "display_data"
    }
   ],
   "source": [
    "fig, ax = plt.subplots(1, 1, figsize=(12, 5))\n",
    "ax.plot(x, stats.poisson.pmf(x, mu), 'bo', ms=8, label='poisson pmf')\n",
    "ax.vlines(x, 0, stats.poisson.pmf(x, mu), colors='b', lw=5, alpha=0.5)\n",
    "ax.set_title(\"Poisson, $\\lambda={:.2f}$\".format(mu));   # why the ;?"
   ]
  },
  {
   "cell_type": "code",
   "execution_count": 7,
   "metadata": {},
   "outputs": [
    {
     "name": "stdout",
     "output_type": "stream",
     "text": [
      "The probability of zero visitors is 0.004.\n"
     ]
    }
   ],
   "source": [
    "prob_0_visitors = stats.poisson.pmf(0, mu)\n",
    "print(\"The probability of zero visitors is {0:0.3f}.\".format(prob_0_visitors))"
   ]
  },
  {
   "cell_type": "markdown",
   "metadata": {
    "collapsed": true
   },
   "source": [
    "#### Question 1: What's the probability of there being 4 to 6 visitors? "
   ]
  },
  {
   "cell_type": "code",
   "execution_count": 8,
   "metadata": {},
   "outputs": [
    {
     "name": "stdout",
     "output_type": "stream",
     "text": [
      "The probability of four to 6 visitors is 0.487.\n"
     ]
    }
   ],
   "source": [
    "prob_4_visitors = stats.poisson.pmf(4, mu)\n",
    "prob_5_visitors = stats.poisson.pmf(5, mu)\n",
    "prob_6_visitors = stats.poisson.pmf(6, mu)\n",
    "print(\"The probability of four to 6 visitors is {0:0.3f}.\".format(prob_4_visitors+prob_5_visitors+prob_6_visitors))"
   ]
  },
  {
   "cell_type": "markdown",
   "metadata": {},
   "source": [
    "#### Question 2:  What's the probability of there being up to 7 visitors?"
   ]
  },
  {
   "cell_type": "code",
   "execution_count": 11,
   "metadata": {},
   "outputs": [
    {
     "name": "stdout",
     "output_type": "stream",
     "text": [
      "0.818216036271\n"
     ]
    }
   ],
   "source": [
    "prob_up_7visitors = stats.poisson.pmf(np.array([[0,1,2,3,4,5,6,7]]), mu).sum()\n",
    "print(prob_up_7visitors)"
   ]
  },
  {
   "cell_type": "code",
   "execution_count": 12,
   "metadata": {},
   "outputs": [
    {
     "name": "stdout",
     "output_type": "stream",
     "text": [
      "0.818216036271\n"
     ]
    }
   ],
   "source": [
    "prob_up_7visitors = stats.poisson.cdf(7, mu)\n",
    "print(prob_up_7visitors)"
   ]
  },
  {
   "cell_type": "code",
   "execution_count": 19,
   "metadata": {},
   "outputs": [
    {
     "name": "stdout",
     "output_type": "stream",
     "text": [
      "0.0966533503278\n"
     ]
    }
   ],
   "source": [
    "#flip a coin 100 times\n",
    "#comes up heads 52 times\n",
    "#MoM estimate that in the next 100 flips the coin will be heads <=45 times\n",
    "\n",
    "n=100\n",
    "p=.52\n",
    "rv = stats.binom(n, p)\n",
    "print(rv.cdf(45))\n",
    "\n"
   ]
  },
  {
   "cell_type": "code",
   "execution_count": null,
   "metadata": {
    "collapsed": true
   },
   "outputs": [],
   "source": []
  }
 ],
 "metadata": {
  "anaconda-cloud": {},
  "kernelspec": {
   "display_name": "Python 3",
   "language": "python",
   "name": "python3"
  },
  "language_info": {
   "codemirror_mode": {
    "name": "ipython",
    "version": 3
   },
   "file_extension": ".py",
   "mimetype": "text/x-python",
   "name": "python",
   "nbconvert_exporter": "python",
   "pygments_lexer": "ipython3",
   "version": "3.6.3"
  }
 },
 "nbformat": 4,
 "nbformat_minor": 1
}
